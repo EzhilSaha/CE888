{
  "nbformat": 4,
  "nbformat_minor": 0,
  "metadata": {
    "colab": {
      "name": "Copy of bootstrap.ipynb",
      "provenance": [],
      "collapsed_sections": [],
      "include_colab_link": true
    },
    "kernelspec": {
      "display_name": "Python 3",
      "language": "python",
      "name": "python3"
    },
    "language_info": {
      "codemirror_mode": {
        "name": "ipython",
        "version": 3
      },
      "file_extension": ".py",
      "mimetype": "text/x-python",
      "name": "python",
      "nbconvert_exporter": "python",
      "pygments_lexer": "ipython3",
      "version": "3.7.6"
    },
    "pycharm": {
      "stem_cell": {
        "cell_type": "raw",
        "metadata": {
          "collapsed": false
        },
        "source": []
      }
    }
  },
  "cells": [
    {
      "cell_type": "markdown",
      "metadata": {
        "id": "view-in-github",
        "colab_type": "text"
      },
      "source": [
        "<a href=\"https://colab.research.google.com/github/EzhilSaha/CE888/blob/main/Lab_2/bootstrap.ipynb\" target=\"_parent\"><img src=\"https://colab.research.google.com/assets/colab-badge.svg\" alt=\"Open In Colab\"/></a>"
      ]
    },
    {
      "cell_type": "markdown",
      "metadata": {
        "id": "nCi_99yMYIb1"
      },
      "source": [
        "In this notebook you'll create your own bootstrap function following the bootstrap algorithm (check the lecture notes!)"
      ]
    },
    {
      "cell_type": "code",
      "metadata": {
        "id": "LY5zujI2YC37",
        "pycharm": {
          "name": "#%%# Imports\n"
        }
      },
      "source": [
        "import matplotlib\n",
        "import pandas as pd\n",
        "import seaborn as sns\n",
        "import numpy as np\n",
        "\n"
      ],
      "execution_count": 33,
      "outputs": []
    },
    {
      "cell_type": "code",
      "metadata": {
        "id": "Eqkwj4SMY38t"
      },
      "source": [
        "# Load the data\n",
        "df = pd.read_csv('https://raw.githubusercontent.com/albanda/CE888/master/lab2%20-%20bootstrap/customers.csv')\n",
        "data = df.values.T[1]"
      ],
      "execution_count": 34,
      "outputs": []
    },
    {
      "cell_type": "code",
      "metadata": {
        "id": "Gxvc_bScYC4H",
        "pycharm": {
          "name": "#%%\n"
        }
      },
      "source": [
        "# Checking the notes from the lecture, create here your own bootstrap function:\n",
        "# 1. Sample from the input array x to create an array of samples of shape (n_bootstraps, sample_size)\n",
        "# Hint: Check the function random.choice() on Numpy\n",
        "# 2. Calculate and save the mean of the array (this is \"data_mean\" that is returned by the function)\n",
        "# 3. Calculate the mean from each bootstrap (i.e., row) and store it.\n",
        "# (This should be an array of n_bootstraps values)\n",
        "# 4. Calculate the lower and upper bounds for a 95% CI (hint: check the percentile function on Numpy)\n",
        "# 5. Return data_mean, and the lower and upper bounds of your interval\n",
        "def bootstrap_mean(x, sample_size, n_bootstraps):\n",
        "   bootstrap_mean = []\n",
        "   for i in range (n_bootstraps):\n",
        "      bootstrap_mean.append (np.mean(np.random.choice(x,sample_size)))\n",
        "   data_mean = np.mean(bootstrap_mean) \n",
        "   lower = np.percentile(bootstrap_mean,2.5)\n",
        "   upper = np.percentile(bootstrap_mean,97.5)\n",
        "   return data_mean, lower, upper"
      ],
      "execution_count": 35,
      "outputs": []
    },
    {
      "cell_type": "code",
      "metadata": {
        "id": "AN7sEOcMYC4P",
        "pycharm": {
          "name": "#%%\n"
        },
        "colab": {
          "base_uri": "https://localhost:8080/",
          "height": 454
        },
        "outputId": "caf26a3d-f33d-46c6-98e5-03ecae0b0b6f"
      },
      "source": [
        "# Call your bootstrap function and plot the results\n",
        "\n",
        "boots = []\n",
        "for i in range(100, 50000, 1000):\n",
        "    boot = bootstrap_mean(data, data.shape[0], i)\n",
        "    boots.append([i, boot[0], \"mean\"])\n",
        "    boots.append([i, boot[1], \"lower\"])\n",
        "    boots.append([i, boot[2], \"upper\"])\n",
        "   \n",
        "df_boot = pd.DataFrame(boots, columns=['Bootstrap Iterations', 'Mean', \"Value\"])\n",
        "sns_plot = sns.lmplot(df_boot.columns[0], df_boot.columns[1], data=df_boot, fit_reg=False, hue=\"Value\")\n",
        "\n",
        "sns_plot.axes[0, 0].set_ylim(0,)\n",
        "sns_plot.axes[0, 0].set_xlim(0, 50000)\n"
      ],
      "execution_count": 36,
      "outputs": [
        {
          "output_type": "stream",
          "text": [
            "/usr/local/lib/python3.6/dist-packages/seaborn/_decorators.py:43: FutureWarning: Pass the following variables as keyword args: x, y. From version 0.12, the only valid positional argument will be `data`, and passing other arguments without an explicit keyword will result in an error or misinterpretation.\n",
            "  FutureWarning\n"
          ],
          "name": "stderr"
        },
        {
          "output_type": "execute_result",
          "data": {
            "text/plain": [
              "(0.0, 50000.0)"
            ]
          },
          "metadata": {
            "tags": []
          },
          "execution_count": 36
        },
        {
          "output_type": "display_data",
          "data": {
            "image/png": "[encoded data removed]",
            "text/plain": [
              "<Figure size 425.125x360 with 1 Axes>"
            ]
          },
          "metadata": {
            "tags": [],
            "needs_background": "light"
          }
        }
      ]
    },
    {
      "cell_type": "markdown",
      "metadata": {
        "id": "MjtP4e2_YC4V"
      },
      "source": [
        "\n",
        "Now, modify the bootstrap function you created above so that you can pass your desired confidence interval as a parameter.\n",
        "\n"
      ]
    },
    {
      "cell_type": "code",
      "metadata": {
        "id": "3K9j0FuGYhHs"
      },
      "source": [
        "def bootstrap_mean_ci(sample, sample_size, n_bootstraps, ci):\n",
        " bootstrap_mean = []\n",
        " for i in range (n_bootstraps):\n",
        "    bootstrap_mean.append (np.mean(np.random.choice(sample,sample_size)))\n",
        " data_mean = np.mean(bootstrap_mean) \n",
        " lower_ci = (100 - ci)/2\n",
        " upper_ci = ci + lower_ci\n",
        " lower = np.percentile(bootstrap_mean,lower_ci)\n",
        " upper = np.percentile(bootstrap_mean,upper_ci)\n",
        " return data_mean, lower, upper"
      ],
      "execution_count": 37,
      "outputs": []
    },
    {
      "cell_type": "code",
      "metadata": {
        "id": "uDnjq08GYl-C",
        "colab": {
          "base_uri": "https://localhost:8080/",
          "height": 454
        },
        "outputId": "5d8d9b55-9626-4370-c8f5-9e08a9d904e2"
      },
      "source": [
        "boots = []\n",
        "for i in range(100, 50000, 1000):\n",
        "    boot = bootstrap_mean_ci(data, data.shape[0], i, 80)\n",
        "    boots.append([i, boot[0], \"mean\"])\n",
        "    boots.append([i, boot[1], \"lower\"])\n",
        "    boots.append([i, boot[2], \"upper\"])\n",
        "\n",
        "df_boot = pd.DataFrame(boots, columns=['Boostrap Iterations', 'Mean', \"Value\"])\n",
        "sns_plot = sns.lmplot(df_boot.columns[0], df_boot.columns[1], data=df_boot, fit_reg=False, hue=\"Value\")\n",
        "\n",
        "sns_plot.axes[0, 0].set_ylim(0,)\n",
        "sns_plot.axes[0, 0].set_xlim(0, 50000)\n",
        "\n",
        "#sns_plot.savefig(\"bootstrap_confidence_80.pdf\", bbox_inches='tight')\n"
      ],
      "execution_count": 38,
      "outputs": [
        {
          "output_type": "stream",
          "text": [
            "/usr/local/lib/python3.6/dist-packages/seaborn/_decorators.py:43: FutureWarning: Pass the following variables as keyword args: x, y. From version 0.12, the only valid positional argument will be `data`, and passing other arguments without an explicit keyword will result in an error or misinterpretation.\n",
            "  FutureWarning\n"
          ],
          "name": "stderr"
        },
        {
          "output_type": "execute_result",
          "data": {
            "text/plain": [
              "(0.0, 50000.0)"
            ]
          },
          "metadata": {
            "tags": []
          },
          "execution_count": 38
        },
        {
          "output_type": "display_data",
          "data": {
            "image/png": "[encoded data removed]",
            "text/plain": [
              "<Figure size 425.125x360 with 1 Axes>"
            ]
          },
          "metadata": {
            "tags": [],
            "needs_background": "light"
          }
        }
      ]
    },
    {
      "cell_type": "markdown",
      "metadata": {
        "id": "qjNgXW6wdd7r"
      },
      "source": [
        "# Vehicles dataset\n",
        "\n",
        "Now let's work on a different dataset, which is stored in the vehicles.csv file.\n"
      ]
    },
    {
      "cell_type": "code",
      "metadata": {
        "id": "avWv4ipFdpka",
        "colab": {
          "base_uri": "https://localhost:8080/",
          "height": 282
        },
        "outputId": "f4d2ba00-ba26-404b-cad2-a4da51238e0b"
      },
      "source": [
        "# Load and visualise the vehicles dataset\n",
        "# To load the dataset: https://neptune.ai/blog/google-colab-dealing-with-files (check section \"Load individual files directly from GitHub\")\n",
        "\n",
        "\n",
        "# Note that the current and new fleets are in different columns and have different lengths, so bear this in mind when you're plotting.\n",
        "# You can create separate scatterplots for the two fleets, as you would with the histograms, \n",
        "# or plot them both in one plot (but not one against the other).\n",
        "df = pd.read_csv('https://raw.githubusercontent.com/albanda/CE888/master/lab2%20-%20bootstrap/vehicles.csv')\n",
        "fig, fleet = matplotlib.pyplot.subplots()\n",
        "\n",
        "current_heights, cureent_bins = np.histogram(df.values.T[0])\n",
        "new_heights, new_bins = np.histogram(df.values.T[1], bins=cureent_bins)\n",
        "width =0.5\n",
        "fleet.bar(cureent_bins[:-1]+width, current_heights, facecolor='olive')\n",
        "fleet.bar(new_bins[:-1]+width, new_heights, facecolor='turquoise')\n",
        "# Note: you can add more cells as needed to organise your code and your plots\n"
      ],
      "execution_count": 39,
      "outputs": [
        {
          "output_type": "execute_result",
          "data": {
            "text/plain": [
              "<BarContainer object of 10 artists>"
            ]
          },
          "metadata": {
            "tags": []
          },
          "execution_count": 39
        },
        {
          "output_type": "display_data",
          "data": {
            "image/png": "[encoded data removed]",
            "text/plain": [
              "<Figure size 432x288 with 1 Axes>"
            ]
          },
          "metadata": {
            "tags": [],
            "needs_background": "light"
          }
        }
      ]
    },
    {
      "cell_type": "markdown",
      "metadata": {
        "id": "B5d0tXDpIEj8"
      },
      "source": [
        "## Compare the two fleets\r\n",
        "\r\n",
        "The business analysts come up a comparison algorithm that requires the upper and lower bounds for the mean in order to say which fleet is better.\r\n",
        "1. Calculate the mean of both samples.\r\n",
        "2. Using the bootstrap function that you created:\r\n",
        "    - Construct the 95% CI of the mean of the current fleet.\r\n",
        "    - Construct the 95% CI of the mean of the new fleet.\r\n",
        "    - Are they comparable? (i.e., is one better than the other?) -- you can do this with a permutation test (check the lecture notes!)"
      ]
    },
    {
      "cell_type": "code",
      "metadata": {
        "id": "po4mp6zRHC0m",
        "colab": {
          "base_uri": "https://localhost:8080/"
        },
        "outputId": "da4300a1-7a3e-4363-93e0-81a769c5d2a4"
      },
      "source": [
        "df = pd.read_csv('https://raw.githubusercontent.com/albanda/CE888/master/lab2%20-%20bootstrap/vehicles.csv')\n",
        "\n",
        "data = df.values.T[0]\n",
        "boots = []\n",
        "for i in range(100, 50000, 1000):\n",
        "    boot = bootstrap_mean_ci(data, data.shape[0], i, 95)\n",
        "    boots.append([i, boot[0], \"mean\"])\n",
        "    boots.append([i, boot[1], \"lower\"])\n",
        "    boots.append([i, boot[2], \"upper\"])    \n",
        "print (boots) \n",
        "\n",
        "df.dropna(how='any',inplace=True)\n",
        "data1 = df.values.T[1]\n",
        "boots = []\n",
        "for i in range(100, 50000, 1000):\n",
        "    boot = bootstrap_mean_ci(data1, data1.shape[0], i, 95)\n",
        "    boots.append([i, boot[0], \"mean\"])\n",
        "    boots.append([i, boot[1], \"lower\"])\n",
        "    boots.append([i, boot[2], \"upper\"])\n",
        "print (boots)   "
      ],
      "execution_count": 40,
      "outputs": [
        {
          "output_type": "stream",
          "text": [
            "[[100, 20.175020080321282, 'mean'], [100, 19.44909638554217, 'lower'], [100, 21.127811244979917, 'upper'], [1100, 20.14866374589266, 'mean'], [1100, 19.397590361445783, 'lower'], [1100, 20.982028112449797, 'upper'], [2100, 20.166903805698986, 'mean'], [2100, 19.353413654618475, 'lower'], [2100, 20.97590361445783, 'upper'], [3100, 20.154711750226717, 'mean'], [3100, 19.369477911646587, 'lower'], [3100, 20.93975903614458, 'upper'], [4100, 20.148622783818197, 'mean'], [4100, 19.351305220883535, 'lower'], [4100, 20.971887550200805, 'upper'], [5100, 20.147147019450347, 'mean'], [5100, 19.347289156626506, 'lower'], [5100, 20.945883534136545, 'upper'], [6100, 20.14537560076371, 'mean'], [6100, 19.363353413654618, 'lower'], [6100, 20.955823293172692, 'upper'], [7100, 20.14373946490186, 'mean'], [7100, 19.36144578313253, 'lower'], [7100, 20.93785140562249, 'upper'], [8100, 20.13834201001537, 'mean'], [8100, 19.34538152610442, 'lower'], [8100, 20.93975903614458, 'upper'], [9100, 20.14513394236286, 'mean'], [9100, 19.36144578313253, 'lower'], [9100, 20.93975903614458, 'upper'], [10100, 20.14919996818959, 'mean'], [10100, 19.34538152610442, 'lower'], [10100, 20.95983935742972, 'upper'], [11100, 20.148854878975357, 'mean'], [11100, 19.353413654618475, 'lower'], [11100, 20.947791164658636, 'upper'], [12100, 20.144694480400943, 'mean'], [12100, 19.349397590361445, 'lower'], [12100, 20.9539156626506, 'upper'], [13100, 20.14875808577823, 'mean'], [13100, 19.3574297188755, 'lower'], [13100, 20.95983935742972, 'upper'], [14100, 20.146796832720952, 'mean'], [14100, 19.36144578313253, 'lower'], [14100, 20.971887550200805, 'upper'], [15100, 20.144485757599934, 'mean'], [15100, 19.363353413654618, 'lower'], [15100, 20.957931726907628, 'upper'], [16100, 20.144385741724665, 'mean'], [16100, 19.3574297188755, 'lower'], [16100, 20.951807228915662, 'upper'], [17100, 20.144157918222593, 'mean'], [17100, 19.365461847389557, 'lower'], [17100, 20.93975903614458, 'upper'], [18100, 20.14018571523664, 'mean'], [18100, 19.3574297188755, 'lower'], [18100, 20.93975903614458, 'upper'], [19100, 20.139993692045667, 'mean'], [19100, 19.349397590361445, 'lower'], [19100, 20.947791164658636, 'upper'], [20100, 20.14006753381686, 'mean'], [20100, 19.34538152610442, 'lower'], [20100, 20.957931726907624, 'upper'], [21100, 20.148781095947772, 'mean'], [21100, 19.36144578313253, 'lower'], [21100, 20.955823293172692, 'upper'], [22100, 20.14696614512348, 'mean'], [22100, 19.369477911646587, 'lower'], [22100, 20.951807228915662, 'upper'], [23100, 20.147378083763627, 'mean'], [23100, 19.353413654618475, 'lower'], [23100, 20.96385542168675, 'upper'], [24100, 20.141179156459867, 'mean'], [24100, 19.36144578313253, 'lower'], [24100, 20.93975903614458, 'upper'], [25100, 20.143472375558012, 'mean'], [25100, 19.365461847389557, 'lower'], [25100, 20.943775100401606, 'upper'], [26100, 20.13965471079721, 'mean'], [26100, 19.353413654618475, 'lower'], [26100, 20.947791164658636, 'upper'], [27100, 20.14072318795477, 'mean'], [27100, 19.365461847389557, 'lower'], [27100, 20.93574297188755, 'upper'], [28100, 20.14497263073647, 'mean'], [28100, 19.36144578313253, 'lower'], [28100, 20.943775100401606, 'upper'], [29100, 20.145493865496345, 'mean'], [29100, 19.353413654618475, 'lower'], [29100, 20.955823293172692, 'upper'], [30100, 20.146841719035613, 'mean'], [30100, 19.369477911646587, 'lower'], [30100, 20.943775100401606, 'upper'], [31100, 20.141236457082346, 'mean'], [31100, 19.36144578313253, 'lower'], [31100, 20.93574297188755, 'upper'], [32100, 20.146187741620686, 'mean'], [32100, 19.365461847389557, 'lower'], [32100, 20.955823293172692, 'upper'], [33100, 20.14565148812774, 'mean'], [33100, 19.365461847389557, 'lower'], [33100, 20.945883534136538, 'upper'], [34100, 20.14419602162315, 'mean'], [34100, 19.349397590361445, 'lower'], [34100, 20.947791164658636, 'upper'], [35100, 20.143322005972607, 'mean'], [35100, 19.3574297188755, 'lower'], [35100, 20.951807228915662, 'upper'], [36100, 20.14219170310049, 'mean'], [36100, 19.36144578313253, 'lower'], [36100, 20.947791164658636, 'upper'], [37100, 20.1395994760714, 'mean'], [37100, 19.349397590361445, 'lower'], [37100, 20.943775100401606, 'upper'], [38100, 20.14384857013355, 'mean'], [38100, 19.34136546184739, 'lower'], [38100, 20.947791164658636, 'upper'], [39100, 20.141645559218972, 'mean'], [39100, 19.353413654618475, 'lower'], [39100, 20.951807228915662, 'upper'], [40100, 20.1429189075504, 'mean'], [40100, 19.3574297188755, 'lower'], [40100, 20.955823293172692, 'upper'], [41100, 20.1447956302094, 'mean'], [41100, 19.373493975903614, 'lower'], [41100, 20.93975903614458, 'upper'], [42100, 20.147427334039243, 'mean'], [42100, 19.369477911646587, 'lower'], [42100, 20.947791164658636, 'upper'], [43100, 20.14587388999152, 'mean'], [43100, 19.3574297188755, 'lower'], [43100, 20.947791164658636, 'upper'], [44100, 20.144069976049323, 'mean'], [44100, 19.36144578313253, 'lower'], [44100, 20.943775100401606, 'upper'], [45100, 20.14489639266601, 'mean'], [45100, 19.365461847389557, 'lower'], [45100, 20.947791164658636, 'upper'], [46100, 20.14370828215247, 'mean'], [46100, 19.365461847389557, 'lower'], [46100, 20.951807228915662, 'upper'], [47100, 20.14363458078599, 'mean'], [47100, 19.36144578313253, 'lower'], [47100, 20.951807228915662, 'upper'], [48100, 20.147993637752673, 'mean'], [48100, 19.367369477911645, 'lower'], [48100, 20.955823293172692, 'upper'], [49100, 20.141722736158485, 'mean'], [49100, 19.365461847389557, 'lower'], [49100, 20.947791164658636, 'upper']]\n",
            "[[100, 30.641265822784806, 'mean'], [100, 29.4996835443038, 'lower'], [100, 31.849367088607593, 'upper'], [1100, 30.455224395857307, 'mean'], [1100, 29.201898734177213, 'lower'], [1100, 31.72151898734177, 'upper'], [2100, 30.486214587100662, 'mean'], [2100, 29.094620253164557, 'lower'], [2100, 31.79746835443038, 'upper'], [3100, 30.492315230706414, 'mean'], [3100, 29.11392405063291, 'lower'], [3100, 31.854746835443038, 'upper'], [4100, 30.51250385921581, 'mean'], [4100, 29.17721518987342, 'lower'], [4100, 31.810126582278482, 'upper'], [5100, 30.489724497393894, 'mean'], [5100, 29.151898734177216, 'lower'], [5100, 31.810126582278485, 'upper'], [6100, 30.489896244034032, 'mean'], [6100, 29.151898734177216, 'lower'], [6100, 31.89873417721519, 'upper'], [7100, 30.47848636120521, 'mean'], [7100, 29.164556962025316, 'lower'], [7100, 31.78481012658228, 'upper'], [8100, 30.48580715736834, 'mean'], [8100, 29.132594936708863, 'lower'], [8100, 31.82278481012658, 'upper'], [9100, 30.49319794129921, 'mean'], [9100, 29.17721518987342, 'lower'], [9100, 31.82943037974683, 'upper'], [10100, 30.48895099636546, 'mean'], [10100, 29.164556962025316, 'lower'], [10100, 31.82278481012658, 'upper'], [11100, 30.487206066826325, 'mean'], [11100, 29.17721518987342, 'lower'], [11100, 31.835443037974684, 'upper'], [12100, 30.478177633643686, 'mean'], [12100, 29.126582278481013, 'lower'], [12100, 31.82278481012658, 'upper'], [13100, 30.485177311817566, 'mean'], [13100, 29.139240506329113, 'lower'], [13100, 31.810126582278485, 'upper'], [14100, 30.48397342669898, 'mean'], [14100, 29.164556962025316, 'lower'], [14100, 31.810126582278485, 'upper'], [15100, 30.483338083661668, 'mean'], [15100, 29.145253164556962, 'lower'], [15100, 31.810126582278485, 'upper'], [16100, 30.475766176586212, 'mean'], [16100, 29.139240506329113, 'lower'], [16100, 31.810126582278485, 'upper'], [17100, 30.47568880005922, 'mean'], [17100, 29.139240506329113, 'lower'], [17100, 31.810126582278485, 'upper'], [18100, 30.486120008392195, 'mean'], [18100, 29.139240506329113, 'lower'], [18100, 31.810126582278485, 'upper'], [19100, 30.487725495393992, 'mean'], [19100, 29.145253164556962, 'lower'], [19100, 31.79746835443038, 'upper'], [20100, 30.479952767806537, 'mean'], [20100, 29.126582278481013, 'lower'], [20100, 31.822784810126585, 'upper'], [21100, 30.484215609814626, 'mean'], [21100, 29.17721518987342, 'lower'], [21100, 31.810126582278485, 'upper'], [22100, 30.478505641789337, 'mean'], [22100, 29.139240506329113, 'lower'], [22100, 31.810126582278485, 'upper'], [23100, 30.48245876486383, 'mean'], [23100, 29.139240506329113, 'lower'], [23100, 31.822784810126585, 'upper'], [24100, 30.48349493145648, 'mean'], [24100, 29.151898734177216, 'lower'], [24100, 31.810126582278485, 'upper'], [25100, 30.480674264965458, 'mean'], [25100, 29.151898734177216, 'lower'], [25100, 31.835443037974684, 'upper'], [26100, 30.4786415442068, 'mean'], [26100, 29.139240506329113, 'lower'], [26100, 31.810126582278485, 'upper'], [27100, 30.481263954411695, 'mean'], [27100, 29.126582278481013, 'lower'], [27100, 31.810126582278485, 'upper'], [28100, 30.484004684895716, 'mean'], [28100, 29.151898734177216, 'lower'], [28100, 31.810126582278485, 'upper'], [29100, 30.47331767367002, 'mean'], [29100, 29.139240506329113, 'lower'], [29100, 31.822784810126585, 'upper'], [30100, 30.485775684427434, 'mean'], [30100, 29.139240506329113, 'lower'], [30100, 31.835443037974684, 'upper'], [31100, 30.479944645691727, 'mean'], [31100, 29.139240506329113, 'lower'], [31100, 31.822784810126585, 'upper'], [32100, 30.47849915217477, 'mean'], [32100, 29.139240506329113, 'lower'], [32100, 31.810126582278485, 'upper'], [33100, 30.477921526635814, 'mean'], [33100, 29.164556962025316, 'lower'], [33100, 31.810126582278485, 'upper'], [34100, 30.478240840417243, 'mean'], [34100, 29.151898734177216, 'lower'], [34100, 31.81012658227848, 'upper'], [35100, 30.484180460889323, 'mean'], [35100, 29.151898734177216, 'lower'], [35100, 31.81012658227848, 'upper'], [36100, 30.477814790139902, 'mean'], [36100, 29.139240506329113, 'lower'], [36100, 31.835443037974684, 'upper'], [37100, 30.482224231464738, 'mean'], [37100, 29.139240506329113, 'lower'], [37100, 31.81012658227848, 'upper'], [38100, 30.479977407887304, 'mean'], [38100, 29.126582278481013, 'lower'], [38100, 31.82278481012658, 'upper'], [39100, 30.48344523940562, 'mean'], [39100, 29.151898734177216, 'lower'], [39100, 31.82278481012658, 'upper'], [40100, 30.486536506834177, 'mean'], [40100, 29.164556962025316, 'lower'], [40100, 31.82278481012658, 'upper'], [41100, 30.47963226462164, 'mean'], [41100, 29.151898734177216, 'lower'], [41100, 31.82278481012658, 'upper'], [42100, 30.48047596139391, 'mean'], [42100, 29.139240506329113, 'lower'], [42100, 31.81012658227848, 'upper'], [43100, 30.479334194836856, 'mean'], [43100, 29.151898734177216, 'lower'], [43100, 31.82278481012658, 'upper'], [44100, 30.479802807198833, 'mean'], [44100, 29.139240506329113, 'lower'], [44100, 31.835443037974684, 'upper'], [45100, 30.48074602149934, 'mean'], [45100, 29.164556962025316, 'lower'], [45100, 31.81012658227848, 'upper'], [46100, 30.484246409841017, 'mean'], [46100, 29.139240506329113, 'lower'], [46100, 31.82278481012658, 'upper'], [47100, 30.480158832540514, 'mean'], [47100, 29.126582278481013, 'lower'], [47100, 31.82278481012658, 'upper'], [48100, 30.480700807916, 'mean'], [48100, 29.139240506329113, 'lower'], [48100, 31.81012658227848, 'upper'], [49100, 30.48267833664183, 'mean'], [49100, 29.151898734177216, 'lower'], [49100, 31.82278481012658, 'upper']]\n"
          ],
          "name": "stdout"
        }
      ]
    },
    {
      "cell_type": "code",
      "metadata": {
        "id": "MkxvDZG4HC0n",
        "colab": {
          "base_uri": "https://localhost:8080/"
        },
        "outputId": "b6b7d9e9-ceed-4f45-cfeb-5ec70e5908f5"
      },
      "source": [
        "# Create your own function for a permutation test here (you will need it for the lab quiz!):\n",
        "def permut_test(sample1, sample2, n_permutations):\n",
        "    \"\"\"\n",
        "    sample1: 1D array\n",
        "    sample2: 1D array (note that the size of the two arrays can be different)\n",
        "    n_permutations: number of permutations to calculate the p-value\n",
        "    \"\"\"\n",
        "\n",
        "    tobs = np.mean(sample2)-np.mean(sample1)\n",
        "    concat = np.concatenate((sample1,sample2))\n",
        "    count = 0\n",
        "    for i in range(0,n_permutations):\n",
        "      perm = np.random.permutation(concat)\n",
        "      psample1 = perm[range(0,len(sample1))]\n",
        "      psample2 = perm[range(len(sample1),len(perm))]\n",
        "      tperm = np.mean(psample2)-np.mean(psample1)\n",
        "      if(tperm>tobs):\n",
        "        count=count+1\n",
        "    pvalue= count/n_permutations\n",
        "    return pvalue\n",
        "\n",
        "df = pd.read_csv('https://raw.githubusercontent.com/albanda/CE888/master/lab2%20-%20bootstrap/vehicles.csv')\n",
        "permut_test(np.array(df.values.T[0]),np.array(df.values.T[1])[~np.isnan(np.array(df.values.T[1]))],20000)\n",
        "\n",
        "# dem_share_PA = [60.08, 40.64, 36.07, 41.21, 31.04, 43.78, 44.08, 46.85, 44.71, 46.15, 63.10, 52.20, 43.18, 40.24, 39.92, 47.87, 37.77, 40.11, 49.85, 48.61, 38.62, 54.25, 34.84, 47.75, 43.82, 55.97, 58.23, 42.97, 42.38, 36.11, 37.53, 42.65, 50.96, 47.43, 56.24, 45.60, 46.39, 35.22, 48.56, 32.97, 57.88, 36.05, 37.72, 50.36, 32.12, 41.55, 54.66, 57.81, 54.58, 32.88, 54.37, 40.45, 47.61, 60.49, 43.11, 27.32, 44.03, 33.56, 37.26, 54.64, 43.12, 25.34, 49.79, 83.56, 40.09, 60.81, 49.81]\n",
        "# dem_share_OH = [56.94, 50.46, 65.99, 45.88, 42.23, 45.26, 57.01, 53.61, 59.10, 61.48, 43.43, 44.69, 54.59, 48.36, 45.89, 48.62, 43.92, 38.23, 28.79, 63.57, 38.07, 40.18, 43.05, 41.56, 42.49, 36.06, 52.76, 46.07, 39.43, 39.26, 47.47, 27.92, 38.01, 45.45, 29.07, 28.94, 51.28, 50.10, 39.84, 36.43, 35.71, 31.47, 47.01, 40.10, 48.76, 31.56, 39.86, 45.31, 35.47, 51.38, 46.33, 48.73, 41.77, 41.32, 48.46, 53.14, 34.01, 54.74, 40.67, 38.96, 46.29, 38.25, 6.80, 31.75, 46.33, 44.90, 33.57, 38.10, 39.67, 40.47, 49.44, 37.62, 36.71, 46.73, 42.20, 53.16, 52.40, 58.36, 68.02, 38.53, 34.58, 69.64, 60.50, 53.53, 36.54, 49.58, 41.97, 38.11]\n",
        "# permut_test(dem_share_PA,dem_share_OH,30000)"
      ],
      "execution_count": 41,
      "outputs": [
        {
          "output_type": "execute_result",
          "data": {
            "text/plain": [
              "0.0"
            ]
          },
          "metadata": {
            "tags": []
          },
          "execution_count": 41
        }
      ]
    }
  ]
}