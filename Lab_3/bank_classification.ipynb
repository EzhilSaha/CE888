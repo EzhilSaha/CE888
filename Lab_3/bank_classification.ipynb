{
  "nbformat": 4,
  "nbformat_minor": 0,
  "metadata": {
    "colab": {
      "name": "bank_classification.ipynb",
      "provenance": [],
      "collapsed_sections": [],
      "include_colab_link": true
    },
    "kernelspec": {
      "name": "python3",
      "display_name": "Python 3"
    }
  },
  "cells": [
    {
      "cell_type": "markdown",
      "metadata": {
        "id": "view-in-github",
        "colab_type": "text"
      },
      "source": [
        "<a href=\"https://colab.research.google.com/github/EzhilSaha/CE888/blob/main/Lab_3/bank_classification.ipynb\" target=\"_parent\"><img src=\"https://colab.research.google.com/assets/colab-badge.svg\" alt=\"Open In Colab\"/></a>"
      ]
    },
    {
      "cell_type": "code",
      "metadata": {
        "id": "kIQY5DBWvgyx"
      },
      "source": [
        "%matplotlib inline\r\n",
        "import matplotlib\r\n",
        "import numpy as np\r\n",
        "import matplotlib.pyplot as plt\r\n",
        "import pandas as pd\r\n",
        "import seaborn as sns\r\n",
        "import itertools\r\n",
        "\r\n",
        "from sklearn.tree import DecisionTreeRegressor\r\n",
        "from sklearn.ensemble import RandomForestClassifier, ExtraTreesClassifier\r\n",
        "from sklearn.model_selection import cross_val_score\r\n",
        "from sklearn.model_selection import train_test_split\r\n",
        "from sklearn.model_selection import GridSearchCV\r\n",
        "from sklearn.metrics import mean_squared_error as mse\r\n",
        "from sklearn.metrics import mean_absolute_error as mae\r\n",
        "from sklearn.metrics import accuracy_score as acc\r\n",
        "# from sklearn.metrics import fbeta_score, Scorer\r\n",
        "from sklearn.metrics import balanced_accuracy_score \r\n",
        "from sklearn.metrics import f1_score\r\n",
        "from sklearn.metrics import make_scorer, confusion_matrix\r\n",
        "from sklearn.dummy import DummyRegressor, DummyClassifier\r\n",
        "from sklearn.preprocessing import LabelEncoder"
      ],
      "execution_count": 31,
      "outputs": []
    },
    {
      "cell_type": "code",
      "metadata": {
        "id": "izKVN42Iv1o_",
        "colab": {
          "base_uri": "https://localhost:8080/",
          "height": 439
        },
        "outputId": "9bfd4679-79a2-456b-c3ed-fe21e8bc992c"
      },
      "source": [
        "df = pd.read_csv(\"https://raw.githubusercontent.com/albanda/CE888/master/lab3/bank-additional-full.csv\", delimiter = \";\")\r\n",
        "df"
      ],
      "execution_count": 32,
      "outputs": [
        {
          "output_type": "execute_result",
          "data": {
            "text/html": [
              "<div>\n",
              "<style scoped>\n",
              "    .dataframe tbody tr th:only-of-type {\n",
              "        vertical-align: middle;\n",
              "    }\n",
              "\n",
              "    .dataframe tbody tr th {\n",
              "        vertical-align: top;\n",
              "    }\n",
              "\n",
              "    .dataframe thead th {\n",
              "        text-align: right;\n",
              "    }\n",
              "</style>\n",
              "<table border=\"1\" class=\"dataframe\">\n",
              "  <thead>\n",
              "    <tr style=\"text-align: right;\">\n",
              "      <th></th>\n",
              "      <th>age</th>\n",
              "      <th>job</th>\n",
              "      <th>marital</th>\n",
              "      <th>education</th>\n",
              "      <th>default</th>\n",
              "      <th>housing</th>\n",
              "      <th>loan</th>\n",
              "      <th>contact</th>\n",
              "      <th>month</th>\n",
              "      <th>day_of_week</th>\n",
              "      <th>duration</th>\n",
              "      <th>campaign</th>\n",
              "      <th>pdays</th>\n",
              "      <th>previous</th>\n",
              "      <th>poutcome</th>\n",
              "      <th>emp.var.rate</th>\n",
              "      <th>cons.price.idx</th>\n",
              "      <th>cons.conf.idx</th>\n",
              "      <th>euribor3m</th>\n",
              "      <th>nr.employed</th>\n",
              "      <th>y</th>\n",
              "    </tr>\n",
              "  </thead>\n",
              "  <tbody>\n",
              "    <tr>\n",
              "      <th>0</th>\n",
              "      <td>56</td>\n",
              "      <td>housemaid</td>\n",
              "      <td>married</td>\n",
              "      <td>basic.4y</td>\n",
              "      <td>no</td>\n",
              "      <td>no</td>\n",
              "      <td>no</td>\n",
              "      <td>telephone</td>\n",
              "      <td>may</td>\n",
              "      <td>mon</td>\n",
              "      <td>261</td>\n",
              "      <td>1</td>\n",
              "      <td>999</td>\n",
              "      <td>0</td>\n",
              "      <td>nonexistent</td>\n",
              "      <td>1.1</td>\n",
              "      <td>93.994</td>\n",
              "      <td>-36.4</td>\n",
              "      <td>4.857</td>\n",
              "      <td>5191.0</td>\n",
              "      <td>no</td>\n",
              "    </tr>\n",
              "    <tr>\n",
              "      <th>1</th>\n",
              "      <td>57</td>\n",
              "      <td>services</td>\n",
              "      <td>married</td>\n",
              "      <td>high.school</td>\n",
              "      <td>unknown</td>\n",
              "      <td>no</td>\n",
              "      <td>no</td>\n",
              "      <td>telephone</td>\n",
              "      <td>may</td>\n",
              "      <td>mon</td>\n",
              "      <td>149</td>\n",
              "      <td>1</td>\n",
              "      <td>999</td>\n",
              "      <td>0</td>\n",
              "      <td>nonexistent</td>\n",
              "      <td>1.1</td>\n",
              "      <td>93.994</td>\n",
              "      <td>-36.4</td>\n",
              "      <td>4.857</td>\n",
              "      <td>5191.0</td>\n",
              "      <td>no</td>\n",
              "    </tr>\n",
              "    <tr>\n",
              "      <th>2</th>\n",
              "      <td>37</td>\n",
              "      <td>services</td>\n",
              "      <td>married</td>\n",
              "      <td>high.school</td>\n",
              "      <td>no</td>\n",
              "      <td>yes</td>\n",
              "      <td>no</td>\n",
              "      <td>telephone</td>\n",
              "      <td>may</td>\n",
              "      <td>mon</td>\n",
              "      <td>226</td>\n",
              "      <td>1</td>\n",
              "      <td>999</td>\n",
              "      <td>0</td>\n",
              "      <td>nonexistent</td>\n",
              "      <td>1.1</td>\n",
              "      <td>93.994</td>\n",
              "      <td>-36.4</td>\n",
              "      <td>4.857</td>\n",
              "      <td>5191.0</td>\n",
              "      <td>no</td>\n",
              "    </tr>\n",
              "    <tr>\n",
              "      <th>3</th>\n",
              "      <td>40</td>\n",
              "      <td>admin.</td>\n",
              "      <td>married</td>\n",
              "      <td>basic.6y</td>\n",
              "      <td>no</td>\n",
              "      <td>no</td>\n",
              "      <td>no</td>\n",
              "      <td>telephone</td>\n",
              "      <td>may</td>\n",
              "      <td>mon</td>\n",
              "      <td>151</td>\n",
              "      <td>1</td>\n",
              "      <td>999</td>\n",
              "      <td>0</td>\n",
              "      <td>nonexistent</td>\n",
              "      <td>1.1</td>\n",
              "      <td>93.994</td>\n",
              "      <td>-36.4</td>\n",
              "      <td>4.857</td>\n",
              "      <td>5191.0</td>\n",
              "      <td>no</td>\n",
              "    </tr>\n",
              "    <tr>\n",
              "      <th>4</th>\n",
              "      <td>56</td>\n",
              "      <td>services</td>\n",
              "      <td>married</td>\n",
              "      <td>high.school</td>\n",
              "      <td>no</td>\n",
              "      <td>no</td>\n",
              "      <td>yes</td>\n",
              "      <td>telephone</td>\n",
              "      <td>may</td>\n",
              "      <td>mon</td>\n",
              "      <td>307</td>\n",
              "      <td>1</td>\n",
              "      <td>999</td>\n",
              "      <td>0</td>\n",
              "      <td>nonexistent</td>\n",
              "      <td>1.1</td>\n",
              "      <td>93.994</td>\n",
              "      <td>-36.4</td>\n",
              "      <td>4.857</td>\n",
              "      <td>5191.0</td>\n",
              "      <td>no</td>\n",
              "    </tr>\n",
              "    <tr>\n",
              "      <th>...</th>\n",
              "      <td>...</td>\n",
              "      <td>...</td>\n",
              "      <td>...</td>\n",
              "      <td>...</td>\n",
              "      <td>...</td>\n",
              "      <td>...</td>\n",
              "      <td>...</td>\n",
              "      <td>...</td>\n",
              "      <td>...</td>\n",
              "      <td>...</td>\n",
              "      <td>...</td>\n",
              "      <td>...</td>\n",
              "      <td>...</td>\n",
              "      <td>...</td>\n",
              "      <td>...</td>\n",
              "      <td>...</td>\n",
              "      <td>...</td>\n",
              "      <td>...</td>\n",
              "      <td>...</td>\n",
              "      <td>...</td>\n",
              "      <td>...</td>\n",
              "    </tr>\n",
              "    <tr>\n",
              "      <th>41183</th>\n",
              "      <td>73</td>\n",
              "      <td>retired</td>\n",
              "      <td>married</td>\n",
              "      <td>professional.course</td>\n",
              "      <td>no</td>\n",
              "      <td>yes</td>\n",
              "      <td>no</td>\n",
              "      <td>cellular</td>\n",
              "      <td>nov</td>\n",
              "      <td>fri</td>\n",
              "      <td>334</td>\n",
              "      <td>1</td>\n",
              "      <td>999</td>\n",
              "      <td>0</td>\n",
              "      <td>nonexistent</td>\n",
              "      <td>-1.1</td>\n",
              "      <td>94.767</td>\n",
              "      <td>-50.8</td>\n",
              "      <td>1.028</td>\n",
              "      <td>4963.6</td>\n",
              "      <td>yes</td>\n",
              "    </tr>\n",
              "    <tr>\n",
              "      <th>41184</th>\n",
              "      <td>46</td>\n",
              "      <td>blue-collar</td>\n",
              "      <td>married</td>\n",
              "      <td>professional.course</td>\n",
              "      <td>no</td>\n",
              "      <td>no</td>\n",
              "      <td>no</td>\n",
              "      <td>cellular</td>\n",
              "      <td>nov</td>\n",
              "      <td>fri</td>\n",
              "      <td>383</td>\n",
              "      <td>1</td>\n",
              "      <td>999</td>\n",
              "      <td>0</td>\n",
              "      <td>nonexistent</td>\n",
              "      <td>-1.1</td>\n",
              "      <td>94.767</td>\n",
              "      <td>-50.8</td>\n",
              "      <td>1.028</td>\n",
              "      <td>4963.6</td>\n",
              "      <td>no</td>\n",
              "    </tr>\n",
              "    <tr>\n",
              "      <th>41185</th>\n",
              "      <td>56</td>\n",
              "      <td>retired</td>\n",
              "      <td>married</td>\n",
              "      <td>university.degree</td>\n",
              "      <td>no</td>\n",
              "      <td>yes</td>\n",
              "      <td>no</td>\n",
              "      <td>cellular</td>\n",
              "      <td>nov</td>\n",
              "      <td>fri</td>\n",
              "      <td>189</td>\n",
              "      <td>2</td>\n",
              "      <td>999</td>\n",
              "      <td>0</td>\n",
              "      <td>nonexistent</td>\n",
              "      <td>-1.1</td>\n",
              "      <td>94.767</td>\n",
              "      <td>-50.8</td>\n",
              "      <td>1.028</td>\n",
              "      <td>4963.6</td>\n",
              "      <td>no</td>\n",
              "    </tr>\n",
              "    <tr>\n",
              "      <th>41186</th>\n",
              "      <td>44</td>\n",
              "      <td>technician</td>\n",
              "      <td>married</td>\n",
              "      <td>professional.course</td>\n",
              "      <td>no</td>\n",
              "      <td>no</td>\n",
              "      <td>no</td>\n",
              "      <td>cellular</td>\n",
              "      <td>nov</td>\n",
              "      <td>fri</td>\n",
              "      <td>442</td>\n",
              "      <td>1</td>\n",
              "      <td>999</td>\n",
              "      <td>0</td>\n",
              "      <td>nonexistent</td>\n",
              "      <td>-1.1</td>\n",
              "      <td>94.767</td>\n",
              "      <td>-50.8</td>\n",
              "      <td>1.028</td>\n",
              "      <td>4963.6</td>\n",
              "      <td>yes</td>\n",
              "    </tr>\n",
              "    <tr>\n",
              "      <th>41187</th>\n",
              "      <td>74</td>\n",
              "      <td>retired</td>\n",
              "      <td>married</td>\n",
              "      <td>professional.course</td>\n",
              "      <td>no</td>\n",
              "      <td>yes</td>\n",
              "      <td>no</td>\n",
              "      <td>cellular</td>\n",
              "      <td>nov</td>\n",
              "      <td>fri</td>\n",
              "      <td>239</td>\n",
              "      <td>3</td>\n",
              "      <td>999</td>\n",
              "      <td>1</td>\n",
              "      <td>failure</td>\n",
              "      <td>-1.1</td>\n",
              "      <td>94.767</td>\n",
              "      <td>-50.8</td>\n",
              "      <td>1.028</td>\n",
              "      <td>4963.6</td>\n",
              "      <td>no</td>\n",
              "    </tr>\n",
              "  </tbody>\n",
              "</table>\n",
              "<p>41188 rows × 21 columns</p>\n",
              "</div>"
            ],
            "text/plain": [
              "       age          job  marital  ... euribor3m nr.employed    y\n",
              "0       56    housemaid  married  ...     4.857      5191.0   no\n",
              "1       57     services  married  ...     4.857      5191.0   no\n",
              "2       37     services  married  ...     4.857      5191.0   no\n",
              "3       40       admin.  married  ...     4.857      5191.0   no\n",
              "4       56     services  married  ...     4.857      5191.0   no\n",
              "...    ...          ...      ...  ...       ...         ...  ...\n",
              "41183   73      retired  married  ...     1.028      4963.6  yes\n",
              "41184   46  blue-collar  married  ...     1.028      4963.6   no\n",
              "41185   56      retired  married  ...     1.028      4963.6   no\n",
              "41186   44   technician  married  ...     1.028      4963.6  yes\n",
              "41187   74      retired  married  ...     1.028      4963.6   no\n",
              "\n",
              "[41188 rows x 21 columns]"
            ]
          },
          "metadata": {
            "tags": []
          },
          "execution_count": 32
        }
      ]
    },
    {
      "cell_type": "code",
      "metadata": {
        "id": "ueJGEnEnv4aM",
        "colab": {
          "base_uri": "https://localhost:8080/"
        },
        "outputId": "6ad725e3-54f7-49ec-aeea-f8a508575255"
      },
      "source": [
        "\r\n",
        "df_1=df\r\n",
        "# Column \"duration\" must be deleted\r\n",
        "df_1.drop('duration',axis='columns',inplace=True)\r\n",
        "\r\n",
        "# Label Encoder\r\n",
        "\r\n",
        "df_1[[\"y\"]] = df_1[[\"y\"]].apply(LabelEncoder().fit_transform)\r\n",
        "\r\n",
        "# Check if there are any missing values in the dataset. If there are, drop the rows.\r\n",
        "print(\"Number of rows before dropping NaNs: %d\" % len(df_1))\r\n",
        "df_1 = df_1.dropna()\r\n",
        "print(\"Number of rows after dropping NaNs: %d\" % len(df_1))\r\n",
        "\r\n",
        "\r\n",
        "# create list containing categorical columns\r\n",
        "cat_cols =['job', 'marital', 'education', 'default', 'housing', 'loan',\r\n",
        "       'contact', 'month', 'day_of_week', 'poutcome']\r\n",
        "# create list containing numerical columns\r\n",
        "num_cols = ['campaign', 'emp.var.rate',\"pdays\",\"age\", 'cons.price.idx', 'cons.conf.idx', 'euribor3m', 'nr.employed', 'previous']\r\n",
        "\r\n",
        "# One Hot encoding\r\n",
        "\r\n",
        "\r\n",
        "data_1 = df_1[cat_cols]\r\n",
        "data_dummies = pd.get_dummies(data_1)\r\n",
        "X_df = pd.concat([data_dummies, df_1], axis=1)\r\n",
        "y_df =X_df['y'].values\r\n",
        "X_df = X_df[['job_admin.', 'job_blue-collar', 'job_entrepreneur',\r\n",
        "       'job_housemaid', 'job_management', 'job_retired',\r\n",
        "       'job_self-employed', 'job_services', 'job_student',\r\n",
        "       'job_technician', 'job_unemployed', 'job_unknown',\r\n",
        "       'marital_divorced', 'marital_married', 'marital_single',\r\n",
        "       'marital_unknown', 'education_basic.4y', 'education_basic.6y',\r\n",
        "       'education_basic.9y', 'education_high.school',\r\n",
        "       'education_illiterate', 'education_professional.course',\r\n",
        "       'education_university.degree', 'education_unknown', 'default_no',\r\n",
        "       'default_unknown', 'default_yes', 'housing_no', 'housing_unknown',\r\n",
        "       'housing_yes', 'loan_no', 'loan_unknown', 'loan_yes',\r\n",
        "       'contact_cellular', 'contact_telephone', 'month_apr', 'month_aug',\r\n",
        "       'month_dec', 'month_jul', 'month_jun', 'month_mar', 'month_may',\r\n",
        "       'month_nov', 'month_oct', 'month_sep', 'day_of_week_fri',\r\n",
        "       'day_of_week_mon', 'day_of_week_thu', 'day_of_week_tue',\r\n",
        "       'day_of_week_wed', 'poutcome_failure', 'poutcome_nonexistent',\r\n",
        "       'poutcome_success', 'age','campaign', 'pdays', 'previous', 'emp.var.rate',\r\n",
        "       'cons.price.idx', 'cons.conf.idx', 'euribor3m', 'nr.employed']].values"
      ],
      "execution_count": 33,
      "outputs": [
        {
          "output_type": "stream",
          "text": [
            "Number of rows before dropping NaNs: 41188\n",
            "Number of rows after dropping NaNs: 41188\n"
          ],
          "name": "stdout"
        }
      ]
    },
    {
      "cell_type": "code",
      "metadata": {
        "id": "E1tsqerUyrcv",
        "colab": {
          "base_uri": "https://localhost:8080/",
          "height": 330
        },
        "outputId": "fe00d426-7c3d-4861-cc9a-84ad4364a88f"
      },
      "source": [
        "sns.countplot(x='y',data=df_1)\r\n",
        "plt.show()\r\n",
        "\r\n",
        "print(df_1.y.value_counts(normalize=True))"
      ],
      "execution_count": 34,
      "outputs": [
        {
          "output_type": "display_data",
          "data": {
            "image/png": "[encoded data removed]",
            "text/plain": [
              "<Figure size 432x288 with 1 Axes>"
            ]
          },
          "metadata": {
            "tags": [],
            "needs_background": "light"
          }
        },
        {
          "output_type": "stream",
          "text": [
            "0    0.887346\n",
            "1    0.112654\n",
            "Name: y, dtype: float64\n"
          ],
          "name": "stdout"
        }
      ]
    },
    {
      "cell_type": "code",
      "metadata": {
        "colab": {
          "base_uri": "https://localhost:8080/"
        },
        "id": "8JcUw4dVnu7M",
        "outputId": "c73e7b65-7069-4841-c12b-2dac9d6916b3"
      },
      "source": [
        "print(df_1.columns)\r\n",
        "\r\n",
        "X = X_df\r\n",
        "y = y_df\r\n",
        "features = ['job_admin.', 'job_blue-collar', 'job_entrepreneur',\r\n",
        "       'job_housemaid', 'job_management', 'job_retired',\r\n",
        "       'job_self-employed', 'job_services', 'job_student',\r\n",
        "       'job_technician', 'job_unemployed', 'job_unknown',\r\n",
        "       'marital_divorced', 'marital_married', 'marital_single',\r\n",
        "       'marital_unknown', 'education_basic.4y', 'education_basic.6y',\r\n",
        "       'education_basic.9y', 'education_high.school',\r\n",
        "       'education_illiterate', 'education_professional.course',\r\n",
        "       'education_university.degree', 'education_unknown', 'default_no',\r\n",
        "       'default_unknown', 'default_yes', 'housing_no', 'housing_unknown',\r\n",
        "       'housing_yes', 'loan_no', 'loan_unknown', 'loan_yes',\r\n",
        "       'contact_cellular', 'contact_telephone', 'month_apr', 'month_aug',\r\n",
        "       'month_dec', 'month_jul', 'month_jun', 'month_mar', 'month_may',\r\n",
        "       'month_nov', 'month_oct', 'month_sep', 'day_of_week_fri',\r\n",
        "       'day_of_week_mon', 'day_of_week_thu', 'day_of_week_tue',\r\n",
        "       'day_of_week_wed', 'poutcome_failure', 'poutcome_nonexistent',\r\n",
        "       'poutcome_success', 'age','campaign', 'pdays', 'previous', 'emp.var.rate',\r\n",
        "       'cons.price.idx', 'cons.conf.idx', 'euribor3m', 'nr.employed']"
      ],
      "execution_count": 35,
      "outputs": [
        {
          "output_type": "stream",
          "text": [
            "Index(['age', 'job', 'marital', 'education', 'default', 'housing', 'loan',\n",
            "       'contact', 'month', 'day_of_week', 'campaign', 'pdays', 'previous',\n",
            "       'poutcome', 'emp.var.rate', 'cons.price.idx', 'cons.conf.idx',\n",
            "       'euribor3m', 'nr.employed', 'y'],\n",
            "      dtype='object')\n"
          ],
          "name": "stdout"
        }
      ]
    },
    {
      "cell_type": "code",
      "metadata": {
        "id": "TMuZSRXTBeGM"
      },
      "source": [
        "\r\n",
        "X_train, X_test, y_train, y_test = train_test_split(X, y, test_size=0.20, random_state=50)\r\n"
      ],
      "execution_count": 36,
      "outputs": []
    },
    {
      "cell_type": "code",
      "metadata": {
        "id": "3jvh6n5W60yE",
        "colab": {
          "base_uri": "https://localhost:8080/"
        },
        "outputId": "b5754f71-62f3-4c4e-b9e0-0bb0f06d055f"
      },
      "source": [
        "clf = RandomForestClassifier(n_estimators=100, max_depth=3, random_state=50)\r\n",
        "clf.fit(X_train, y_train)\r\n",
        "\r\n",
        "dummy_clf = DummyClassifier(strategy='stratified')\r\n",
        "dummy_clf.fit(X_train, y_train)\r\n",
        "\r\n",
        "dummy_scores = cross_val_score(dummy_clf, X, y, cv=10, scoring=make_scorer(f1_score))\r\n",
        "scores = cross_val_score(clf, X, y, cv=10,scoring=make_scorer(f1_score))\r\n",
        "\r\n",
        "print(\"ACC: %0.2f +/- %0.2f\" % (scores.mean(), scores.std()))\r\n",
        "print(\"Dummy ACC: %0.2f +/- %0.2f\" % (dummy_scores.mean(), dummy_scores.std()))"
      ],
      "execution_count": 37,
      "outputs": [
        {
          "output_type": "stream",
          "text": [
            "ACC: 0.03 +/- 0.07\n",
            "Dummy ACC: 0.11 +/- 0.01\n"
          ],
          "name": "stdout"
        }
      ]
    },
    {
      "cell_type": "code",
      "metadata": {
        "id": "_ObgV6rnJie4"
      },
      "source": [
        "#quiz work out 1\r\n",
        "\r\n",
        "# X_train, X_test, y_train, y_test = train_test_split(X, y, test_size=0.20, random_state=50)\r\n",
        "\r\n",
        "# clf = RandomForestClassifier(n_estimators=150, max_depth=6, random_state=50)\r\n",
        "# clf.fit(X_train, y_train)\r\n",
        "# scores = cross_val_score(clf, X, y, cv=10,scoring=make_scorer(f1_score))\r\n",
        "\r\n",
        "# print(\"ACC: %0.2f +/- %0.2f\" % (scores.mean(), scores.std()))\r\n",
        "\r\n",
        "# quiz work out 2\r\n",
        "\r\n",
        "\r\n",
        "# X_train, X_test, y_train, y_test = train_test_split(X, y, test_size=0.20, random_state=50)\r\n",
        "\r\n",
        "# clf = RandomForestClassifier(n_estimators=100, max_depth=3, random_state=50)\r\n",
        "# clf.fit(X_train, y_train)\r\n",
        "# scores = cross_val_score(clf, X, y, cv=10,scoring=make_scorer(f1_score))\r\n",
        "\r\n",
        "# print(\"ACC: %0.2f +/- %0.2f\" % (scores.mean(), scores.std()))\r\n",
        "\r\n",
        "# quiz workout 3\r\n",
        "\r\n",
        "# X_train, X_test, y_train, y_test = train_test_split(X, y, test_size=0.20, random_state=50)\r\n",
        "\r\n",
        "# clf = RandomForestClassifier(n_estimators=400, max_depth=8, random_state=60)\r\n",
        "# clf.fit(X_train, y_train)\r\n",
        "# scores = cross_val_score(clf, X, y, cv=10,scoring=make_scorer(f1_score))\r\n",
        "\r\n",
        "# print(\"ACC: %0.2f +/- %0.2f\" % (scores.mean(), scores.std()))"
      ],
      "execution_count": 38,
      "outputs": []
    },
    {
      "cell_type": "code",
      "metadata": {
        "colab": {
          "base_uri": "https://localhost:8080/"
        },
        "id": "JClM-d1af6di",
        "outputId": "6c5deba8-c360-46f9-ffff-31ab5a6033b6"
      },
      "source": [
        "from sklearn.model_selection import GridSearchCV\r\n",
        "param_grid = {\r\n",
        "    'n_estimators': [100, 300],\r\n",
        "    'max_features':['auto', 'sqrt', 'log2']\r\n",
        "}\r\n",
        "CV_rfc = GridSearchCV(estimator=clf, param_grid=param_grid, cv= 10)\r\n",
        "\r\n",
        "CV_rfc.fit(X_train, y_train)\r\n",
        "print(CV_rfc.best_params_)"
      ],
      "execution_count": 39,
      "outputs": [
        {
          "output_type": "stream",
          "text": [
            "{'max_features': 'auto', 'n_estimators': 100}\n"
          ],
          "name": "stdout"
        }
      ]
    },
    {
      "cell_type": "code",
      "metadata": {
        "colab": {
          "base_uri": "https://localhost:8080/"
        },
        "id": "STY1JumLfNj5",
        "outputId": "643dbe82-3e97-4073-b853-e7740dc35444"
      },
      "source": [
        "clf = RandomForestClassifier(n_estimators=100,max_features='auto', random_state=50)\r\n",
        "scores = cross_val_score(clf, X_train, y_train, cv=10, scoring = make_scorer(f1_score))\r\n",
        "print(scores.mean())\r\n",
        "\r\n",
        "clf.fit(X_train, y_train)"
      ],
      "execution_count": 40,
      "outputs": [
        {
          "output_type": "stream",
          "text": [
            "0.3758664602643035\n"
          ],
          "name": "stdout"
        },
        {
          "output_type": "execute_result",
          "data": {
            "text/plain": [
              "RandomForestClassifier(bootstrap=True, ccp_alpha=0.0, class_weight=None,\n",
              "                       criterion='gini', max_depth=None, max_features='auto',\n",
              "                       max_leaf_nodes=None, max_samples=None,\n",
              "                       min_impurity_decrease=0.0, min_impurity_split=None,\n",
              "                       min_samples_leaf=1, min_samples_split=2,\n",
              "                       min_weight_fraction_leaf=0.0, n_estimators=100,\n",
              "                       n_jobs=None, oob_score=False, random_state=50, verbose=0,\n",
              "                       warm_start=False)"
            ]
          },
          "metadata": {
            "tags": []
          },
          "execution_count": 40
        }
      ]
    },
    {
      "cell_type": "code",
      "metadata": {
        "colab": {
          "base_uri": "https://localhost:8080/",
          "height": 1000
        },
        "id": "HUXMEXD8e-8P",
        "outputId": "bca65d0b-91ae-45d2-8779-d1b37c8d0447"
      },
      "source": [
        "importances = clf.feature_importances_\r\n",
        "std = np.std([tree.feature_importances_ for tree in clf.estimators_],\r\n",
        "             axis=0)\r\n",
        "indices = np.argsort(importances)[::-1]\r\n",
        "print(indices)\r\n",
        "\r\n",
        "# Print the feature ranking\r\n",
        "print(\"Feature ranking:\")\r\n",
        "\r\n",
        "for f in range(X.shape[1]):\r\n",
        "    print(\"%d. %s (%f)\" % (f + 1, features[indices[f]],  importances[indices[f]]))\r\n",
        "\r\n",
        "# Plot the feature importances of the forest\r\n",
        "fig = plt.figure()\r\n",
        "plt.title(\"Feature importances\")\r\n",
        "plt.bar(range(X.shape[1]), importances[indices],\r\n",
        "       color=\"r\", yerr=std[indices], align=\"center\")\r\n",
        "plt.xticks(range(X.shape[1]), np.array(features)[indices])\r\n",
        "plt.xlim([-1, X.shape[1]])\r\n",
        "plt.ylim([0, None])\r\n",
        "\r\n",
        "fig.set_size_inches(15,8)\r\n"
      ],
      "execution_count": 41,
      "outputs": [
        {
          "output_type": "stream",
          "text": [
            "[53 60 54 61 55 52 59 57 29 27 58  0 22 19 13 46 14 48 49  9 47 45 56 30\n",
            " 32 21  1 18 12  4  7 16 34 51 50 33 24 25 17 23  5  6  2 40  8 10 43  3\n",
            " 41 35 39 36 28 38 31 44 11 42 37 15 20 26]\n",
            "Feature ranking:\n",
            "1. age (0.158848)\n",
            "2. euribor3m (0.109743)\n",
            "3. campaign (0.080803)\n",
            "4. nr.employed (0.047443)\n",
            "5. pdays (0.034330)\n",
            "6. poutcome_success (0.033493)\n",
            "7. cons.conf.idx (0.030369)\n",
            "8. emp.var.rate (0.024124)\n",
            "9. housing_yes (0.021010)\n",
            "10. housing_no (0.020804)\n",
            "11. cons.price.idx (0.020481)\n",
            "12. job_admin. (0.017779)\n",
            "13. education_university.degree (0.017042)\n",
            "14. education_high.school (0.016698)\n",
            "15. marital_married (0.016547)\n",
            "16. day_of_week_mon (0.015081)\n",
            "17. marital_single (0.014965)\n",
            "18. day_of_week_tue (0.014778)\n",
            "19. day_of_week_wed (0.014307)\n",
            "20. job_technician (0.014037)\n",
            "21. day_of_week_thu (0.014029)\n",
            "22. day_of_week_fri (0.013855)\n",
            "23. previous (0.013641)\n",
            "24. loan_no (0.013591)\n",
            "25. loan_yes (0.013413)\n",
            "26. education_professional.course (0.012135)\n",
            "27. job_blue-collar (0.012078)\n",
            "28. education_basic.9y (0.011418)\n",
            "29. marital_divorced (0.010757)\n",
            "30. job_management (0.009018)\n",
            "31. job_services (0.008970)\n",
            "32. education_basic.4y (0.008418)\n",
            "33. contact_telephone (0.008370)\n",
            "34. poutcome_nonexistent (0.008100)\n",
            "35. poutcome_failure (0.007916)\n",
            "36. contact_cellular (0.007553)\n",
            "37. default_no (0.007517)\n",
            "38. default_unknown (0.007432)\n",
            "39. education_basic.6y (0.007270)\n",
            "40. education_unknown (0.006938)\n",
            "41. job_retired (0.006742)\n",
            "42. job_self-employed (0.006160)\n",
            "43. job_entrepreneur (0.005602)\n",
            "44. month_mar (0.005460)\n",
            "45. job_student (0.005374)\n",
            "46. job_unemployed (0.005195)\n",
            "47. month_oct (0.005160)\n",
            "48. job_housemaid (0.004494)\n",
            "49. month_may (0.004397)\n",
            "50. month_apr (0.003723)\n",
            "51. month_jun (0.003358)\n",
            "52. month_aug (0.002712)\n",
            "53. housing_unknown (0.002624)\n",
            "54. month_jul (0.002615)\n",
            "55. loan_unknown (0.002608)\n",
            "56. month_sep (0.002561)\n",
            "57. job_unknown (0.002200)\n",
            "58. month_nov (0.002113)\n",
            "59. month_dec (0.000854)\n",
            "60. marital_unknown (0.000702)\n",
            "61. education_illiterate (0.000243)\n",
            "62. default_yes (0.000000)\n"
          ],
          "name": "stdout"
        },
        {
          "output_type": "display_data",
          "data": {
            "image/png": "[encoded data removed]",
            "text/plain": [
              "<Figure size 1080x576 with 1 Axes>"
            ]
          },
          "metadata": {
            "tags": [],
            "needs_background": "light"
          }
        }
      ]
    },
    {
      "cell_type": "code",
      "metadata": {
        "id": "8jgjd-DdfUbk"
      },
      "source": [
        "def plot_confusion_matrix(conf_mat, classes,\r\n",
        "                          normalize=False,\r\n",
        "                          title='Confusion matrix',\r\n",
        "                          cmap=plt.cm.Blues):\r\n",
        "    \"\"\"\r\n",
        "    This function prints and plots the confusion matrix.\r\n",
        "    Normalization can be applied by setting `normalize=True`.\r\n",
        "    conf_mat: confusion matrix\r\n",
        "    classes: names of classes to be annotated\r\n",
        "    normalize: [True/False] whether to normalise by column\r\n",
        "    \"\"\"\r\n",
        "    if normalize:\r\n",
        "        conf_mat = conf_mat.astype('float') / conf_mat.sum(axis=1)[:, np.newaxis]\r\n",
        "        print(\"Normalized confusion matrix\")\r\n",
        "    else:\r\n",
        "        print('Confusion matrix, without normalization')\r\n",
        "    plt.imshow(conf_mat, interpolation='nearest', cmap=cmap)\r\n",
        "    plt.title(title)\r\n",
        "    plt.colorbar()\r\n",
        "    tick_marks = np.arange(len(classes))\r\n",
        "    plt.xticks(tick_marks, classes, rotation=45)\r\n",
        "    plt.yticks(tick_marks, classes)\r\n",
        "    for i, j in itertools.product(range(conf_mat.shape[0]), range(conf_mat.shape[1])):\r\n",
        "        t = \"(%.2f)\" % (conf_mat[i, j])\r\n",
        "    plt.tight_layout()\r\n",
        "    plt.ylabel('True label')\r\n",
        "    plt.xlabel('Predicted label')"
      ],
      "execution_count": 42,
      "outputs": []
    },
    {
      "cell_type": "code",
      "metadata": {
        "colab": {
          "base_uri": "https://localhost:8080/",
          "height": 328
        },
        "id": "lmJ2e5jdj86V",
        "outputId": "f609debc-9d43-4019-838f-b832febd4bde"
      },
      "source": [
        "\r\n",
        "# Compute confusion matrix\r\n",
        "y_pred = clf.predict(X)\r\n",
        "cnf_matrix = confusion_matrix(y, y_pred)\r\n",
        "np.set_printoptions(precision=2)\r\n",
        "\r\n",
        "# Plot non-normalized confusion matrix\r\n",
        "plt.figure()\r\n",
        "plot_confusion_matrix(cnf_matrix, classes=range(len(set(y))), normalize=True,\r\n",
        "                      title='Confusion matrix')\r\n",
        "\r\n",
        "#plt.savefig(\"confusion.pdf\", bbox_inches='tight')"
      ],
      "execution_count": 43,
      "outputs": [
        {
          "output_type": "stream",
          "text": [
            "Normalized confusion matrix\n"
          ],
          "name": "stdout"
        },
        {
          "output_type": "display_data",
          "data": {
            "image/png": "[encoded data removed]",
            "text/plain": [
              "<Figure size 432x288 with 2 Axes>"
            ]
          },
          "metadata": {
            "tags": [],
            "needs_background": "light"
          }
        }
      ]
    }
  ]
}